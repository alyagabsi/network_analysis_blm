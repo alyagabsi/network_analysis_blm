{
 "cells": [
  {
   "cell_type": "code",
   "execution_count": 154,
   "id": "e8d3bd47",
   "metadata": {},
   "outputs": [],
   "source": [
    "# import libraries \n",
    "\n",
    "import pandas as pd \n",
    "import numpy as np\n",
    "from sklearn import preprocessing\n",
    "import re"
   ]
  },
  {
   "cell_type": "code",
   "execution_count": 159,
   "id": "9590c265",
   "metadata": {},
   "outputs": [],
   "source": [
    "# import dataset \n",
    "tweets = pd.read_csv('pre_tweets_keywordsfrom_2020-04-24_to_2020-05-24_#BlackLivesMatter.csv')\n",
    "#tweets = pd.read_csv('pre_tweets_keywordsfrom_2020-04-24_to_2020-05-24_#BlueLivesMatter.csv')\n",
    "#tweets = pd.read_csv('during_tweets_keywordsfrom_2020-05-25_to_2020-06-08_#BlackLivesMatter.csv')\n",
    "#tweets = pd.read_csv('during_tweets_keywordsfrom_2020-05-25_to_2020-06-08_#BlueLivesMatter.csv')\n",
    "#tweets = pd.read_csv('post_tweets_keywordsfrom_2020-06-09_to_2020-06-22_#BlackLivesMatter.csv')\n",
    "#tweets = pd.read_csv('post_tweets_keywordsfrom_2020-06-09_to_2020-06-22_#BlueLivesMatter.csv')"
   ]
  },
  {
   "cell_type": "code",
   "execution_count": 160,
   "id": "758323b4",
   "metadata": {},
   "outputs": [
    {
     "data": {
      "text/html": [
       "<div>\n",
       "<style scoped>\n",
       "    .dataframe tbody tr th:only-of-type {\n",
       "        vertical-align: middle;\n",
       "    }\n",
       "\n",
       "    .dataframe tbody tr th {\n",
       "        vertical-align: top;\n",
       "    }\n",
       "\n",
       "    .dataframe thead th {\n",
       "        text-align: right;\n",
       "    }\n",
       "</style>\n",
       "<table border=\"1\" class=\"dataframe\">\n",
       "  <thead>\n",
       "    <tr style=\"text-align: right;\">\n",
       "      <th></th>\n",
       "      <th>Datetime</th>\n",
       "      <th>Tweet Id</th>\n",
       "      <th>Text</th>\n",
       "      <th>Username</th>\n",
       "      <th>user_mention</th>\n",
       "      <th>followersCount</th>\n",
       "      <th>listedCount</th>\n",
       "    </tr>\n",
       "  </thead>\n",
       "  <tbody>\n",
       "    <tr>\n",
       "      <th>0</th>\n",
       "      <td>2020-05-23 23:58:44+00:00</td>\n",
       "      <td>1264345049782824960</td>\n",
       "      <td>#BlackTwitter #blacklivesmatter \\n\\nExonerated...</td>\n",
       "      <td>HaroldWNelson</td>\n",
       "      <td>NaN</td>\n",
       "      <td>16602</td>\n",
       "      <td>781</td>\n",
       "    </tr>\n",
       "    <tr>\n",
       "      <th>1</th>\n",
       "      <td>2020-05-23 23:57:21+00:00</td>\n",
       "      <td>1264344701915680768</td>\n",
       "      <td>#BlackTwitter #blacklivesmatter \\n\\nWATCH: Aft...</td>\n",
       "      <td>HaroldWNelson</td>\n",
       "      <td>NaN</td>\n",
       "      <td>16602</td>\n",
       "      <td>781</td>\n",
       "    </tr>\n",
       "    <tr>\n",
       "      <th>2</th>\n",
       "      <td>2020-05-23 23:57:15+00:00</td>\n",
       "      <td>1264344673650425858</td>\n",
       "      <td>This is why #poc are angry!  #blacklivesmatter...</td>\n",
       "      <td>ScribeShelly</td>\n",
       "      <td>NaN</td>\n",
       "      <td>1971</td>\n",
       "      <td>55</td>\n",
       "    </tr>\n",
       "    <tr>\n",
       "      <th>3</th>\n",
       "      <td>2020-05-23 23:56:31+00:00</td>\n",
       "      <td>1264344489658810368</td>\n",
       "      <td>TRANSITION TO GOLFING  #Biden2020 #BlackLivesM...</td>\n",
       "      <td>BuddyWinston</td>\n",
       "      <td>NaN</td>\n",
       "      <td>19437</td>\n",
       "      <td>41</td>\n",
       "    </tr>\n",
       "    <tr>\n",
       "      <th>4</th>\n",
       "      <td>2020-05-23 23:56:24+00:00</td>\n",
       "      <td>1264344459723935744</td>\n",
       "      <td>#BlackTwitter\\n#BlackLivesMatter\\n\\nArchie Wil...</td>\n",
       "      <td>HaroldWNelson</td>\n",
       "      <td>theadvocatebr</td>\n",
       "      <td>16602</td>\n",
       "      <td>781</td>\n",
       "    </tr>\n",
       "  </tbody>\n",
       "</table>\n",
       "</div>"
      ],
      "text/plain": [
       "                    Datetime             Tweet Id  \\\n",
       "0  2020-05-23 23:58:44+00:00  1264345049782824960   \n",
       "1  2020-05-23 23:57:21+00:00  1264344701915680768   \n",
       "2  2020-05-23 23:57:15+00:00  1264344673650425858   \n",
       "3  2020-05-23 23:56:31+00:00  1264344489658810368   \n",
       "4  2020-05-23 23:56:24+00:00  1264344459723935744   \n",
       "\n",
       "                                                Text       Username  \\\n",
       "0  #BlackTwitter #blacklivesmatter \\n\\nExonerated...  HaroldWNelson   \n",
       "1  #BlackTwitter #blacklivesmatter \\n\\nWATCH: Aft...  HaroldWNelson   \n",
       "2  This is why #poc are angry!  #blacklivesmatter...   ScribeShelly   \n",
       "3  TRANSITION TO GOLFING  #Biden2020 #BlackLivesM...   BuddyWinston   \n",
       "4  #BlackTwitter\\n#BlackLivesMatter\\n\\nArchie Wil...  HaroldWNelson   \n",
       "\n",
       "    user_mention  followersCount  listedCount  \n",
       "0            NaN           16602          781  \n",
       "1            NaN           16602          781  \n",
       "2            NaN            1971           55  \n",
       "3            NaN           19437           41  \n",
       "4  theadvocatebr           16602          781  "
      ]
     },
     "execution_count": 160,
     "metadata": {},
     "output_type": "execute_result"
    }
   ],
   "source": [
    "tweets.head()"
   ]
  },
  {
   "cell_type": "code",
   "execution_count": 161,
   "id": "7cf35089",
   "metadata": {},
   "outputs": [],
   "source": [
    "tweets=tweets.drop(columns=[\"Datetime\",\"Tweet Id\",\"listedCount\"])"
   ]
  },
  {
   "cell_type": "code",
   "execution_count": 162,
   "id": "6a64c15b",
   "metadata": {},
   "outputs": [
    {
     "data": {
      "text/html": [
       "<div>\n",
       "<style scoped>\n",
       "    .dataframe tbody tr th:only-of-type {\n",
       "        vertical-align: middle;\n",
       "    }\n",
       "\n",
       "    .dataframe tbody tr th {\n",
       "        vertical-align: top;\n",
       "    }\n",
       "\n",
       "    .dataframe thead th {\n",
       "        text-align: right;\n",
       "    }\n",
       "</style>\n",
       "<table border=\"1\" class=\"dataframe\">\n",
       "  <thead>\n",
       "    <tr style=\"text-align: right;\">\n",
       "      <th></th>\n",
       "      <th>Text</th>\n",
       "      <th>Username</th>\n",
       "      <th>user_mention</th>\n",
       "      <th>followersCount</th>\n",
       "    </tr>\n",
       "  </thead>\n",
       "  <tbody>\n",
       "    <tr>\n",
       "      <th>0</th>\n",
       "      <td>#BlackTwitter #blacklivesmatter \\n\\nExonerated...</td>\n",
       "      <td>HaroldWNelson</td>\n",
       "      <td>NaN</td>\n",
       "      <td>16602</td>\n",
       "    </tr>\n",
       "    <tr>\n",
       "      <th>1</th>\n",
       "      <td>#BlackTwitter #blacklivesmatter \\n\\nWATCH: Aft...</td>\n",
       "      <td>HaroldWNelson</td>\n",
       "      <td>NaN</td>\n",
       "      <td>16602</td>\n",
       "    </tr>\n",
       "    <tr>\n",
       "      <th>2</th>\n",
       "      <td>This is why #poc are angry!  #blacklivesmatter...</td>\n",
       "      <td>ScribeShelly</td>\n",
       "      <td>NaN</td>\n",
       "      <td>1971</td>\n",
       "    </tr>\n",
       "    <tr>\n",
       "      <th>3</th>\n",
       "      <td>TRANSITION TO GOLFING  #Biden2020 #BlackLivesM...</td>\n",
       "      <td>BuddyWinston</td>\n",
       "      <td>NaN</td>\n",
       "      <td>19437</td>\n",
       "    </tr>\n",
       "    <tr>\n",
       "      <th>4</th>\n",
       "      <td>#BlackTwitter\\n#BlackLivesMatter\\n\\nArchie Wil...</td>\n",
       "      <td>HaroldWNelson</td>\n",
       "      <td>theadvocatebr</td>\n",
       "      <td>16602</td>\n",
       "    </tr>\n",
       "    <tr>\n",
       "      <th>...</th>\n",
       "      <td>...</td>\n",
       "      <td>...</td>\n",
       "      <td>...</td>\n",
       "      <td>...</td>\n",
       "    </tr>\n",
       "    <tr>\n",
       "      <th>4995</th>\n",
       "      <td>Breonna Taylor deserved a life. Respect. Love....</td>\n",
       "      <td>robinskyleigh</td>\n",
       "      <td>NaN</td>\n",
       "      <td>5629</td>\n",
       "    </tr>\n",
       "    <tr>\n",
       "      <th>4996</th>\n",
       "      <td>What's this I'm reading?!\\nNYPD is being parti...</td>\n",
       "      <td>HWreckz</td>\n",
       "      <td>ACLU, splcenter</td>\n",
       "      <td>100</td>\n",
       "    </tr>\n",
       "    <tr>\n",
       "      <th>4997</th>\n",
       "      <td>@NPR What's this I'm reading?!\\nNYPD is being ...</td>\n",
       "      <td>HWreckz</td>\n",
       "      <td>NPR, ACLU, splcenter</td>\n",
       "      <td>100</td>\n",
       "    </tr>\n",
       "    <tr>\n",
       "      <th>4998</th>\n",
       "      <td>Justice for #BreyonnaTaylor! Her story needs t...</td>\n",
       "      <td>MszLisaLisa</td>\n",
       "      <td>NaN</td>\n",
       "      <td>3638</td>\n",
       "    </tr>\n",
       "    <tr>\n",
       "      <th>4999</th>\n",
       "      <td>Racist fucks.\\n#BlackLivesMatter https://t.co/...</td>\n",
       "      <td>RobertM24477472</td>\n",
       "      <td>NaN</td>\n",
       "      <td>2</td>\n",
       "    </tr>\n",
       "  </tbody>\n",
       "</table>\n",
       "<p>5000 rows × 4 columns</p>\n",
       "</div>"
      ],
      "text/plain": [
       "                                                   Text         Username  \\\n",
       "0     #BlackTwitter #blacklivesmatter \\n\\nExonerated...    HaroldWNelson   \n",
       "1     #BlackTwitter #blacklivesmatter \\n\\nWATCH: Aft...    HaroldWNelson   \n",
       "2     This is why #poc are angry!  #blacklivesmatter...     ScribeShelly   \n",
       "3     TRANSITION TO GOLFING  #Biden2020 #BlackLivesM...     BuddyWinston   \n",
       "4     #BlackTwitter\\n#BlackLivesMatter\\n\\nArchie Wil...    HaroldWNelson   \n",
       "...                                                 ...              ...   \n",
       "4995  Breonna Taylor deserved a life. Respect. Love....    robinskyleigh   \n",
       "4996  What's this I'm reading?!\\nNYPD is being parti...          HWreckz   \n",
       "4997  @NPR What's this I'm reading?!\\nNYPD is being ...          HWreckz   \n",
       "4998  Justice for #BreyonnaTaylor! Her story needs t...      MszLisaLisa   \n",
       "4999  Racist fucks.\\n#BlackLivesMatter https://t.co/...  RobertM24477472   \n",
       "\n",
       "              user_mention  followersCount  \n",
       "0                      NaN           16602  \n",
       "1                      NaN           16602  \n",
       "2                      NaN            1971  \n",
       "3                      NaN           19437  \n",
       "4            theadvocatebr           16602  \n",
       "...                    ...             ...  \n",
       "4995                   NaN            5629  \n",
       "4996       ACLU, splcenter             100  \n",
       "4997  NPR, ACLU, splcenter             100  \n",
       "4998                   NaN            3638  \n",
       "4999                   NaN               2  \n",
       "\n",
       "[5000 rows x 4 columns]"
      ]
     },
     "execution_count": 162,
     "metadata": {},
     "output_type": "execute_result"
    }
   ],
   "source": [
    "tweets"
   ]
  },
  {
   "cell_type": "code",
   "execution_count": 163,
   "id": "afaaf7b5",
   "metadata": {},
   "outputs": [],
   "source": [
    "followerscount=tweets[[\"Username\",\"followersCount\"]].drop_duplicates()"
   ]
  },
  {
   "cell_type": "code",
   "execution_count": 164,
   "id": "a4df13f5",
   "metadata": {},
   "outputs": [
    {
     "data": {
      "text/html": [
       "<div>\n",
       "<style scoped>\n",
       "    .dataframe tbody tr th:only-of-type {\n",
       "        vertical-align: middle;\n",
       "    }\n",
       "\n",
       "    .dataframe tbody tr th {\n",
       "        vertical-align: top;\n",
       "    }\n",
       "\n",
       "    .dataframe thead th {\n",
       "        text-align: right;\n",
       "    }\n",
       "</style>\n",
       "<table border=\"1\" class=\"dataframe\">\n",
       "  <thead>\n",
       "    <tr style=\"text-align: right;\">\n",
       "      <th></th>\n",
       "      <th>Username</th>\n",
       "      <th>followersCount</th>\n",
       "    </tr>\n",
       "  </thead>\n",
       "  <tbody>\n",
       "    <tr>\n",
       "      <th>0</th>\n",
       "      <td>HaroldWNelson</td>\n",
       "      <td>16602</td>\n",
       "    </tr>\n",
       "    <tr>\n",
       "      <th>2</th>\n",
       "      <td>ScribeShelly</td>\n",
       "      <td>1971</td>\n",
       "    </tr>\n",
       "    <tr>\n",
       "      <th>3</th>\n",
       "      <td>BuddyWinston</td>\n",
       "      <td>19437</td>\n",
       "    </tr>\n",
       "    <tr>\n",
       "      <th>5</th>\n",
       "      <td>LeBaronLordKing</td>\n",
       "      <td>163</td>\n",
       "    </tr>\n",
       "    <tr>\n",
       "      <th>7</th>\n",
       "      <td>NobleJennJenn</td>\n",
       "      <td>1115</td>\n",
       "    </tr>\n",
       "    <tr>\n",
       "      <th>...</th>\n",
       "      <td>...</td>\n",
       "      <td>...</td>\n",
       "    </tr>\n",
       "    <tr>\n",
       "      <th>4993</th>\n",
       "      <td>Rwillz4</td>\n",
       "      <td>1169</td>\n",
       "    </tr>\n",
       "    <tr>\n",
       "      <th>4994</th>\n",
       "      <td>ChukaOttih</td>\n",
       "      <td>323</td>\n",
       "    </tr>\n",
       "    <tr>\n",
       "      <th>4996</th>\n",
       "      <td>HWreckz</td>\n",
       "      <td>100</td>\n",
       "    </tr>\n",
       "    <tr>\n",
       "      <th>4998</th>\n",
       "      <td>MszLisaLisa</td>\n",
       "      <td>3638</td>\n",
       "    </tr>\n",
       "    <tr>\n",
       "      <th>4999</th>\n",
       "      <td>RobertM24477472</td>\n",
       "      <td>2</td>\n",
       "    </tr>\n",
       "  </tbody>\n",
       "</table>\n",
       "<p>3250 rows × 2 columns</p>\n",
       "</div>"
      ],
      "text/plain": [
       "             Username  followersCount\n",
       "0       HaroldWNelson           16602\n",
       "2        ScribeShelly            1971\n",
       "3        BuddyWinston           19437\n",
       "5     LeBaronLordKing             163\n",
       "7       NobleJennJenn            1115\n",
       "...               ...             ...\n",
       "4993          Rwillz4            1169\n",
       "4994       ChukaOttih             323\n",
       "4996          HWreckz             100\n",
       "4998      MszLisaLisa            3638\n",
       "4999  RobertM24477472               2\n",
       "\n",
       "[3250 rows x 2 columns]"
      ]
     },
     "execution_count": 164,
     "metadata": {},
     "output_type": "execute_result"
    }
   ],
   "source": [
    "followerscount"
   ]
  },
  {
   "cell_type": "code",
   "execution_count": 165,
   "id": "da272bbc",
   "metadata": {
    "scrolled": false
   },
   "outputs": [],
   "source": [
    "# creating network \n",
    "\n",
    "dictionnary = []\n",
    "\n",
    "for row in tweets.iterrows():\n",
    "    if '@' not in row[1]['Text']:\n",
    "        dictionnary.append([row[1][1],row[1][1]])\n",
    "    else:\n",
    "        for i in re.findall(r\"@(\\w+)\",row[1]['Text']):\n",
    "            dictionnary.append([row[1][1],i])\n",
    "    \n",
    "                "
   ]
  },
  {
   "cell_type": "code",
   "execution_count": 166,
   "id": "091f312b",
   "metadata": {},
   "outputs": [
    {
     "name": "stderr",
     "output_type": "stream",
     "text": [
      "C:\\Users\\crist\\AppData\\Local\\Temp/ipykernel_14796/4006122528.py:5: FutureWarning: In a future version of pandas all arguments of DataFrame.drop except for the argument 'labels' will be keyword-only.\n",
      "  network.drop('tweet',1, inplace=True)\n"
     ]
    }
   ],
   "source": [
    "# formatting network \n",
    "network = pd.DataFrame(dictionnary, columns = ['source', 'target'])\n",
    "network['tweet'] = network.source==network.target\n",
    "network['content'] = network['tweet'].apply(lambda x: 'tweet' if x == 1 else 'non tweet')\n",
    "network.drop('tweet',1, inplace=True)\n"
   ]
  },
  {
   "cell_type": "code",
   "execution_count": 167,
   "id": "5d0a5351",
   "metadata": {},
   "outputs": [
    {
     "data": {
      "text/html": [
       "<div>\n",
       "<style scoped>\n",
       "    .dataframe tbody tr th:only-of-type {\n",
       "        vertical-align: middle;\n",
       "    }\n",
       "\n",
       "    .dataframe tbody tr th {\n",
       "        vertical-align: top;\n",
       "    }\n",
       "\n",
       "    .dataframe thead th {\n",
       "        text-align: right;\n",
       "    }\n",
       "</style>\n",
       "<table border=\"1\" class=\"dataframe\">\n",
       "  <thead>\n",
       "    <tr style=\"text-align: right;\">\n",
       "      <th></th>\n",
       "      <th>source</th>\n",
       "      <th>target</th>\n",
       "      <th>content</th>\n",
       "    </tr>\n",
       "  </thead>\n",
       "  <tbody>\n",
       "    <tr>\n",
       "      <th>0</th>\n",
       "      <td>HaroldWNelson</td>\n",
       "      <td>HaroldWNelson</td>\n",
       "      <td>tweet</td>\n",
       "    </tr>\n",
       "    <tr>\n",
       "      <th>1</th>\n",
       "      <td>HaroldWNelson</td>\n",
       "      <td>HaroldWNelson</td>\n",
       "      <td>tweet</td>\n",
       "    </tr>\n",
       "    <tr>\n",
       "      <th>2</th>\n",
       "      <td>ScribeShelly</td>\n",
       "      <td>ScribeShelly</td>\n",
       "      <td>tweet</td>\n",
       "    </tr>\n",
       "    <tr>\n",
       "      <th>3</th>\n",
       "      <td>BuddyWinston</td>\n",
       "      <td>BuddyWinston</td>\n",
       "      <td>tweet</td>\n",
       "    </tr>\n",
       "    <tr>\n",
       "      <th>4</th>\n",
       "      <td>HaroldWNelson</td>\n",
       "      <td>theadvocatebr</td>\n",
       "      <td>non tweet</td>\n",
       "    </tr>\n",
       "    <tr>\n",
       "      <th>...</th>\n",
       "      <td>...</td>\n",
       "      <td>...</td>\n",
       "      <td>...</td>\n",
       "    </tr>\n",
       "    <tr>\n",
       "      <th>7554</th>\n",
       "      <td>HWreckz</td>\n",
       "      <td>NPR</td>\n",
       "      <td>non tweet</td>\n",
       "    </tr>\n",
       "    <tr>\n",
       "      <th>7555</th>\n",
       "      <td>HWreckz</td>\n",
       "      <td>ACLU</td>\n",
       "      <td>non tweet</td>\n",
       "    </tr>\n",
       "    <tr>\n",
       "      <th>7556</th>\n",
       "      <td>HWreckz</td>\n",
       "      <td>splcenter</td>\n",
       "      <td>non tweet</td>\n",
       "    </tr>\n",
       "    <tr>\n",
       "      <th>7557</th>\n",
       "      <td>MszLisaLisa</td>\n",
       "      <td>MszLisaLisa</td>\n",
       "      <td>tweet</td>\n",
       "    </tr>\n",
       "    <tr>\n",
       "      <th>7558</th>\n",
       "      <td>RobertM24477472</td>\n",
       "      <td>RobertM24477472</td>\n",
       "      <td>tweet</td>\n",
       "    </tr>\n",
       "  </tbody>\n",
       "</table>\n",
       "<p>7559 rows × 3 columns</p>\n",
       "</div>"
      ],
      "text/plain": [
       "               source           target    content\n",
       "0       HaroldWNelson    HaroldWNelson      tweet\n",
       "1       HaroldWNelson    HaroldWNelson      tweet\n",
       "2        ScribeShelly     ScribeShelly      tweet\n",
       "3        BuddyWinston     BuddyWinston      tweet\n",
       "4       HaroldWNelson    theadvocatebr  non tweet\n",
       "...               ...              ...        ...\n",
       "7554          HWreckz              NPR  non tweet\n",
       "7555          HWreckz             ACLU  non tweet\n",
       "7556          HWreckz        splcenter  non tweet\n",
       "7557      MszLisaLisa      MszLisaLisa      tweet\n",
       "7558  RobertM24477472  RobertM24477472      tweet\n",
       "\n",
       "[7559 rows x 3 columns]"
      ]
     },
     "execution_count": 167,
     "metadata": {},
     "output_type": "execute_result"
    }
   ],
   "source": [
    "network"
   ]
  },
  {
   "cell_type": "code",
   "execution_count": 168,
   "id": "9eb762b1",
   "metadata": {},
   "outputs": [],
   "source": [
    "network2=pd.merge(network, followerscount, how=\"left\",left_on=\"source\", right_on=\"Username\")"
   ]
  },
  {
   "cell_type": "code",
   "execution_count": 169,
   "id": "9c922043",
   "metadata": {},
   "outputs": [
    {
     "data": {
      "text/html": [
       "<div>\n",
       "<style scoped>\n",
       "    .dataframe tbody tr th:only-of-type {\n",
       "        vertical-align: middle;\n",
       "    }\n",
       "\n",
       "    .dataframe tbody tr th {\n",
       "        vertical-align: top;\n",
       "    }\n",
       "\n",
       "    .dataframe thead th {\n",
       "        text-align: right;\n",
       "    }\n",
       "</style>\n",
       "<table border=\"1\" class=\"dataframe\">\n",
       "  <thead>\n",
       "    <tr style=\"text-align: right;\">\n",
       "      <th></th>\n",
       "      <th>source</th>\n",
       "      <th>target</th>\n",
       "      <th>content</th>\n",
       "      <th>followersCount</th>\n",
       "    </tr>\n",
       "  </thead>\n",
       "  <tbody>\n",
       "    <tr>\n",
       "      <th>0</th>\n",
       "      <td>HaroldWNelson</td>\n",
       "      <td>HaroldWNelson</td>\n",
       "      <td>tweet</td>\n",
       "      <td>16602</td>\n",
       "    </tr>\n",
       "    <tr>\n",
       "      <th>1</th>\n",
       "      <td>HaroldWNelson</td>\n",
       "      <td>HaroldWNelson</td>\n",
       "      <td>tweet</td>\n",
       "      <td>16602</td>\n",
       "    </tr>\n",
       "    <tr>\n",
       "      <th>2</th>\n",
       "      <td>ScribeShelly</td>\n",
       "      <td>ScribeShelly</td>\n",
       "      <td>tweet</td>\n",
       "      <td>1971</td>\n",
       "    </tr>\n",
       "    <tr>\n",
       "      <th>3</th>\n",
       "      <td>BuddyWinston</td>\n",
       "      <td>BuddyWinston</td>\n",
       "      <td>tweet</td>\n",
       "      <td>19437</td>\n",
       "    </tr>\n",
       "    <tr>\n",
       "      <th>4</th>\n",
       "      <td>HaroldWNelson</td>\n",
       "      <td>theadvocatebr</td>\n",
       "      <td>non tweet</td>\n",
       "      <td>16602</td>\n",
       "    </tr>\n",
       "    <tr>\n",
       "      <th>...</th>\n",
       "      <td>...</td>\n",
       "      <td>...</td>\n",
       "      <td>...</td>\n",
       "      <td>...</td>\n",
       "    </tr>\n",
       "    <tr>\n",
       "      <th>7554</th>\n",
       "      <td>HWreckz</td>\n",
       "      <td>NPR</td>\n",
       "      <td>non tweet</td>\n",
       "      <td>100</td>\n",
       "    </tr>\n",
       "    <tr>\n",
       "      <th>7555</th>\n",
       "      <td>HWreckz</td>\n",
       "      <td>ACLU</td>\n",
       "      <td>non tweet</td>\n",
       "      <td>100</td>\n",
       "    </tr>\n",
       "    <tr>\n",
       "      <th>7556</th>\n",
       "      <td>HWreckz</td>\n",
       "      <td>splcenter</td>\n",
       "      <td>non tweet</td>\n",
       "      <td>100</td>\n",
       "    </tr>\n",
       "    <tr>\n",
       "      <th>7557</th>\n",
       "      <td>MszLisaLisa</td>\n",
       "      <td>MszLisaLisa</td>\n",
       "      <td>tweet</td>\n",
       "      <td>3638</td>\n",
       "    </tr>\n",
       "    <tr>\n",
       "      <th>7558</th>\n",
       "      <td>RobertM24477472</td>\n",
       "      <td>RobertM24477472</td>\n",
       "      <td>tweet</td>\n",
       "      <td>2</td>\n",
       "    </tr>\n",
       "  </tbody>\n",
       "</table>\n",
       "<p>7559 rows × 4 columns</p>\n",
       "</div>"
      ],
      "text/plain": [
       "               source           target    content  followersCount\n",
       "0       HaroldWNelson    HaroldWNelson      tweet           16602\n",
       "1       HaroldWNelson    HaroldWNelson      tweet           16602\n",
       "2        ScribeShelly     ScribeShelly      tweet            1971\n",
       "3        BuddyWinston     BuddyWinston      tweet           19437\n",
       "4       HaroldWNelson    theadvocatebr  non tweet           16602\n",
       "...               ...              ...        ...             ...\n",
       "7554          HWreckz              NPR  non tweet             100\n",
       "7555          HWreckz             ACLU  non tweet             100\n",
       "7556          HWreckz        splcenter  non tweet             100\n",
       "7557      MszLisaLisa      MszLisaLisa      tweet            3638\n",
       "7558  RobertM24477472  RobertM24477472      tweet               2\n",
       "\n",
       "[7559 rows x 4 columns]"
      ]
     },
     "execution_count": 169,
     "metadata": {},
     "output_type": "execute_result"
    }
   ],
   "source": [
    "network2=network2.drop(columns=\"Username\")\n",
    "network2"
   ]
  },
  {
   "cell_type": "code",
   "execution_count": 170,
   "id": "6a2636e3",
   "metadata": {},
   "outputs": [
    {
     "data": {
      "text/plain": [
       "0"
      ]
     },
     "execution_count": 170,
     "metadata": {},
     "output_type": "execute_result"
    }
   ],
   "source": [
    "network2[\"followersCount\"].isnull().sum()"
   ]
  },
  {
   "cell_type": "code",
   "execution_count": 171,
   "id": "ac5124ad",
   "metadata": {},
   "outputs": [],
   "source": [
    "# filtering missing users that have been mentionned but no information (followers,listed) was scraped \n",
    "unique_users_network = np.unique(np.array(list(network.source) + list(network.target)))\n",
    "unique_users_tweets = np.unique(np.array(tweets.Username))"
   ]
  },
  {
   "cell_type": "code",
   "execution_count": 172,
   "id": "0986ba2b",
   "metadata": {},
   "outputs": [
    {
     "data": {
      "text/plain": [
       "array(['00001Kat', '00e90172', '08_kavya', ..., 'zig_zag_zig_',\n",
       "       'zmorris1986', 'zoestarz16'], dtype='<U20')"
      ]
     },
     "execution_count": 172,
     "metadata": {},
     "output_type": "execute_result"
    }
   ],
   "source": [
    "unique_users_network"
   ]
  },
  {
   "cell_type": "code",
   "execution_count": 173,
   "id": "d78a263b",
   "metadata": {},
   "outputs": [
    {
     "data": {
      "text/plain": [
       "array(['00001Kat', '00e90172', '08_kavya', ..., 'zig_zag_zig_',\n",
       "       'zmorris1986', 'zoestarz16'], dtype=object)"
      ]
     },
     "execution_count": 173,
     "metadata": {},
     "output_type": "execute_result"
    }
   ],
   "source": [
    "unique_users_tweets"
   ]
  },
  {
   "cell_type": "code",
   "execution_count": 174,
   "id": "b0c65043",
   "metadata": {},
   "outputs": [],
   "source": [
    "missing_user = []\n",
    "\n",
    "for i in unique_users_network:\n",
    "    if i not in unique_users_tweets:\n",
    "        missing_user.append(i)"
   ]
  },
  {
   "cell_type": "code",
   "execution_count": 175,
   "id": "d8c24998",
   "metadata": {},
   "outputs": [
    {
     "data": {
      "text/plain": [
       "5322"
      ]
     },
     "execution_count": 175,
     "metadata": {},
     "output_type": "execute_result"
    }
   ],
   "source": [
    "len(unique_users_network)"
   ]
  },
  {
   "cell_type": "code",
   "execution_count": 176,
   "id": "26496328",
   "metadata": {},
   "outputs": [
    {
     "data": {
      "text/plain": [
       "2092"
      ]
     },
     "execution_count": 176,
     "metadata": {},
     "output_type": "execute_result"
    }
   ],
   "source": [
    "len(missing_user)"
   ]
  },
  {
   "cell_type": "code",
   "execution_count": 177,
   "id": "dced6d54",
   "metadata": {},
   "outputs": [],
   "source": [
    "import snscrape.modules.twitter\n",
    "import pandas as pd\n",
    "\n",
    "info2 = []\n",
    "for name in missing_user:\n",
    "    try:\n",
    "        scraper = snscrape.modules.twitter.TwitterUserScraper(name)\n",
    "        if scraper.entity:\n",
    "            info2.append([name, scraper.entity.followersCount])\n",
    "    except:\n",
    "        pass "
   ]
  },
  {
   "cell_type": "code",
   "execution_count": 178,
   "id": "48257964",
   "metadata": {},
   "outputs": [],
   "source": [
    "more = pd.DataFrame(info2, columns =['Username', 'followersCount'])"
   ]
  },
  {
   "cell_type": "code",
   "execution_count": 179,
   "id": "55ee3ec3",
   "metadata": {},
   "outputs": [
    {
     "data": {
      "text/html": [
       "<div>\n",
       "<style scoped>\n",
       "    .dataframe tbody tr th:only-of-type {\n",
       "        vertical-align: middle;\n",
       "    }\n",
       "\n",
       "    .dataframe tbody tr th {\n",
       "        vertical-align: top;\n",
       "    }\n",
       "\n",
       "    .dataframe thead th {\n",
       "        text-align: right;\n",
       "    }\n",
       "</style>\n",
       "<table border=\"1\" class=\"dataframe\">\n",
       "  <thead>\n",
       "    <tr style=\"text-align: right;\">\n",
       "      <th></th>\n",
       "      <th>Username</th>\n",
       "      <th>followersCount</th>\n",
       "    </tr>\n",
       "  </thead>\n",
       "  <tbody>\n",
       "    <tr>\n",
       "      <th>0</th>\n",
       "      <td>100BlackMen</td>\n",
       "      <td>18201</td>\n",
       "    </tr>\n",
       "    <tr>\n",
       "      <th>1</th>\n",
       "      <td>1423Brown</td>\n",
       "      <td>3098</td>\n",
       "    </tr>\n",
       "    <tr>\n",
       "      <th>2</th>\n",
       "      <td>1GunnaGunna</td>\n",
       "      <td>2288597</td>\n",
       "    </tr>\n",
       "    <tr>\n",
       "      <th>3</th>\n",
       "      <td>1Mauricewood</td>\n",
       "      <td>4231</td>\n",
       "    </tr>\n",
       "    <tr>\n",
       "      <th>4</th>\n",
       "      <td>1TurboTheGreat</td>\n",
       "      <td>20031</td>\n",
       "    </tr>\n",
       "    <tr>\n",
       "      <th>...</th>\n",
       "      <td>...</td>\n",
       "      <td>...</td>\n",
       "    </tr>\n",
       "    <tr>\n",
       "      <th>1762</th>\n",
       "      <td>z_hurston</td>\n",
       "      <td>13</td>\n",
       "    </tr>\n",
       "    <tr>\n",
       "      <th>1763</th>\n",
       "      <td>zahranc</td>\n",
       "      <td>5471</td>\n",
       "    </tr>\n",
       "    <tr>\n",
       "      <th>1764</th>\n",
       "      <td>zazzybritches</td>\n",
       "      <td>15734</td>\n",
       "    </tr>\n",
       "    <tr>\n",
       "      <th>1765</th>\n",
       "      <td>zdiniJAMA</td>\n",
       "      <td>271</td>\n",
       "    </tr>\n",
       "    <tr>\n",
       "      <th>1766</th>\n",
       "      <td>zei_squirrel</td>\n",
       "      <td>110804</td>\n",
       "    </tr>\n",
       "  </tbody>\n",
       "</table>\n",
       "<p>1767 rows × 2 columns</p>\n",
       "</div>"
      ],
      "text/plain": [
       "            Username  followersCount\n",
       "0        100BlackMen           18201\n",
       "1          1423Brown            3098\n",
       "2        1GunnaGunna         2288597\n",
       "3       1Mauricewood            4231\n",
       "4     1TurboTheGreat           20031\n",
       "...              ...             ...\n",
       "1762       z_hurston              13\n",
       "1763         zahranc            5471\n",
       "1764   zazzybritches           15734\n",
       "1765       zdiniJAMA             271\n",
       "1766    zei_squirrel          110804\n",
       "\n",
       "[1767 rows x 2 columns]"
      ]
     },
     "execution_count": 179,
     "metadata": {},
     "output_type": "execute_result"
    }
   ],
   "source": [
    "more"
   ]
  },
  {
   "cell_type": "code",
   "execution_count": 180,
   "id": "2405b1e1",
   "metadata": {},
   "outputs": [
    {
     "name": "stderr",
     "output_type": "stream",
     "text": [
      "C:\\Users\\crist\\AppData\\Local\\Temp/ipykernel_14796/2850779970.py:2: FutureWarning: In a future version of pandas all arguments of DataFrame.drop except for the argument 'labels' will be keyword-only.\n",
      "  user_data = tweets.drop('Text',1).drop_duplicates(subset='Username', keep=\"last\").append(more).reset_index(drop=True)\n",
      "C:\\Users\\crist\\AppData\\Local\\Temp/ipykernel_14796/2850779970.py:2: FutureWarning: The frame.append method is deprecated and will be removed from pandas in a future version. Use pandas.concat instead.\n",
      "  user_data = tweets.drop('Text',1).drop_duplicates(subset='Username', keep=\"last\").append(more).reset_index(drop=True)\n"
     ]
    }
   ],
   "source": [
    "# merging dataset \n",
    "user_data = tweets.drop('Text',1).drop_duplicates(subset='Username', keep=\"last\").append(more).reset_index(drop=True)"
   ]
  },
  {
   "cell_type": "code",
   "execution_count": 181,
   "id": "42958e30",
   "metadata": {},
   "outputs": [
    {
     "data": {
      "text/html": [
       "<div>\n",
       "<style scoped>\n",
       "    .dataframe tbody tr th:only-of-type {\n",
       "        vertical-align: middle;\n",
       "    }\n",
       "\n",
       "    .dataframe tbody tr th {\n",
       "        vertical-align: top;\n",
       "    }\n",
       "\n",
       "    .dataframe thead th {\n",
       "        text-align: right;\n",
       "    }\n",
       "</style>\n",
       "<table border=\"1\" class=\"dataframe\">\n",
       "  <thead>\n",
       "    <tr style=\"text-align: right;\">\n",
       "      <th></th>\n",
       "      <th>Username</th>\n",
       "      <th>user_mention</th>\n",
       "      <th>followersCount</th>\n",
       "    </tr>\n",
       "  </thead>\n",
       "  <tbody>\n",
       "    <tr>\n",
       "      <th>0</th>\n",
       "      <td>ScribeShelly</td>\n",
       "      <td>NaN</td>\n",
       "      <td>1971</td>\n",
       "    </tr>\n",
       "    <tr>\n",
       "      <th>1</th>\n",
       "      <td>NobleJennJenn</td>\n",
       "      <td>NaN</td>\n",
       "      <td>1115</td>\n",
       "    </tr>\n",
       "    <tr>\n",
       "      <th>2</th>\n",
       "      <td>gndinaa</td>\n",
       "      <td>NaN</td>\n",
       "      <td>709</td>\n",
       "    </tr>\n",
       "    <tr>\n",
       "      <th>3</th>\n",
       "      <td>revfredsmall</td>\n",
       "      <td>AttorneyCrump, mlevenson</td>\n",
       "      <td>2903</td>\n",
       "    </tr>\n",
       "    <tr>\n",
       "      <th>4</th>\n",
       "      <td>p_tomblin</td>\n",
       "      <td>NaN</td>\n",
       "      <td>38</td>\n",
       "    </tr>\n",
       "    <tr>\n",
       "      <th>...</th>\n",
       "      <td>...</td>\n",
       "      <td>...</td>\n",
       "      <td>...</td>\n",
       "    </tr>\n",
       "    <tr>\n",
       "      <th>5012</th>\n",
       "      <td>z_hurston</td>\n",
       "      <td>NaN</td>\n",
       "      <td>13</td>\n",
       "    </tr>\n",
       "    <tr>\n",
       "      <th>5013</th>\n",
       "      <td>zahranc</td>\n",
       "      <td>NaN</td>\n",
       "      <td>5471</td>\n",
       "    </tr>\n",
       "    <tr>\n",
       "      <th>5014</th>\n",
       "      <td>zazzybritches</td>\n",
       "      <td>NaN</td>\n",
       "      <td>15734</td>\n",
       "    </tr>\n",
       "    <tr>\n",
       "      <th>5015</th>\n",
       "      <td>zdiniJAMA</td>\n",
       "      <td>NaN</td>\n",
       "      <td>271</td>\n",
       "    </tr>\n",
       "    <tr>\n",
       "      <th>5016</th>\n",
       "      <td>zei_squirrel</td>\n",
       "      <td>NaN</td>\n",
       "      <td>110804</td>\n",
       "    </tr>\n",
       "  </tbody>\n",
       "</table>\n",
       "<p>5017 rows × 3 columns</p>\n",
       "</div>"
      ],
      "text/plain": [
       "           Username              user_mention  followersCount\n",
       "0      ScribeShelly                       NaN            1971\n",
       "1     NobleJennJenn                       NaN            1115\n",
       "2           gndinaa                       NaN             709\n",
       "3      revfredsmall  AttorneyCrump, mlevenson            2903\n",
       "4         p_tomblin                       NaN              38\n",
       "...             ...                       ...             ...\n",
       "5012      z_hurston                       NaN              13\n",
       "5013        zahranc                       NaN            5471\n",
       "5014  zazzybritches                       NaN           15734\n",
       "5015      zdiniJAMA                       NaN             271\n",
       "5016   zei_squirrel                       NaN          110804\n",
       "\n",
       "[5017 rows x 3 columns]"
      ]
     },
     "execution_count": 181,
     "metadata": {},
     "output_type": "execute_result"
    }
   ],
   "source": [
    "user_data # complete database of all users that have been mentionned/have tweeted"
   ]
  },
  {
   "cell_type": "code",
   "execution_count": 182,
   "id": "b96b577a",
   "metadata": {},
   "outputs": [],
   "source": [
    "top100 = user_data.nlargest(100,'followersCount')\n",
    "users = top100.Username "
   ]
  },
  {
   "cell_type": "code",
   "execution_count": 183,
   "id": "aec190b2",
   "metadata": {},
   "outputs": [
    {
     "data": {
      "text/plain": [
       "4405      barackobama\n",
       "3363      BarackObama\n",
       "4329          YouTube\n",
       "3786    KimKardashian\n",
       "4962          twitter\n",
       "            ...      \n",
       "4306        WORLDSTAR\n",
       "4876      seanhannity\n",
       "4478           common\n",
       "4166          Spotify\n",
       "3856          MTVNEWS\n",
       "Name: Username, Length: 100, dtype: object"
      ]
     },
     "execution_count": 183,
     "metadata": {},
     "output_type": "execute_result"
    }
   ],
   "source": [
    "users"
   ]
  },
  {
   "cell_type": "code",
   "execution_count": 184,
   "id": "620fcbc6",
   "metadata": {},
   "outputs": [],
   "source": [
    "network3 = network2[(network2.source.isin(users)) | (network2['target'].isin(users))]"
   ]
  },
  {
   "cell_type": "code",
   "execution_count": 185,
   "id": "b607f457",
   "metadata": {},
   "outputs": [],
   "source": [
    "network3=network3.drop(columns=\"followersCount\")"
   ]
  },
  {
   "cell_type": "code",
   "execution_count": 186,
   "id": "e8c3499f",
   "metadata": {},
   "outputs": [],
   "source": [
    "network3.to_csv(\"networkx.csv\") # outputting the network to use for closeness, betweeness, and degree"
   ]
  },
  {
   "cell_type": "code",
   "execution_count": null,
   "id": "f5a5de76",
   "metadata": {},
   "outputs": [],
   "source": []
  },
  {
   "cell_type": "code",
   "execution_count": null,
   "id": "8d67b58a",
   "metadata": {},
   "outputs": [],
   "source": []
  }
 ],
 "metadata": {
  "kernelspec": {
   "display_name": "Python 3 (ipykernel)",
   "language": "python",
   "name": "python3"
  },
  "language_info": {
   "codemirror_mode": {
    "name": "ipython",
    "version": 3
   },
   "file_extension": ".py",
   "mimetype": "text/x-python",
   "name": "python",
   "nbconvert_exporter": "python",
   "pygments_lexer": "ipython3",
   "version": "3.8.8"
  }
 },
 "nbformat": 4,
 "nbformat_minor": 5
}
